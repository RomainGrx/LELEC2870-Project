{
 "cells": [
  {
   "cell_type": "markdown",
   "metadata": {},
   "source": [
    "All imports \n",
    "----"
   ]
  },
  {
   "cell_type": "code",
   "execution_count": 11,
   "metadata": {},
   "outputs": [],
   "source": [
    "import os\n",
    "import numpy as np\n",
    "import pandas as pd\n",
    "\n",
    "import sklearn\n",
    "from sklearn.linear_model import LinearRegression\n",
    "from sklearn.model_selection import train_test_split\n",
    "from sklearn.metrics import mean_squared_error"
   ]
  },
  {
   "cell_type": "markdown",
   "metadata": {},
   "source": [
    "Useful functions\n",
    "---"
   ]
  },
  {
   "cell_type": "code",
   "execution_count": 1,
   "metadata": {},
   "outputs": [],
   "source": [
    "class AttributeDict(dict):\n",
    "    __getattr__ = dict.__getitem__\n",
    "    __setattr__ = dict.__setitem__\n",
    "\n",
    "def score_f1(y_true, y_pred, threshold):\n",
    "    return sklearn.metrics.f1_score(y_true>threshold, y_pred>threshold)\n",
    "\n",
    "def score_regression(y_true, y_pred):\n",
    "    scores = [score_f1(y_true, y_pred, th) for th in [500, 1400, 5000, 10000]]\n",
    "    return np.mean(scores)"
   ]
  },
  {
   "cell_type": "markdown",
   "metadata": {},
   "source": [
    "Get the dataset in a DataFrame\n",
    "---"
   ]
  },
  {
   "cell_type": "code",
   "execution_count": 5,
   "metadata": {},
   "outputs": [],
   "source": [
    "datasets_path = os.path.join(os.curdir, \"datasets\")\n",
    "\n",
    "\n",
    "dataset = AttributeDict(\n",
    "    train=AttributeDict(\n",
    "        X=pd.read_csv(os.path.join(datasets_path, 'X1.csv')),\n",
    "        y=pd.read_csv(os.path.join(datasets_path, 'Y1.csv'), header=None)\n",
    "    ),\n",
    "    validation=AttributeDict(\n",
    "        X=None,\n",
    "        y=None\n",
    "    ),\n",
    "    test=AttributeDict(\n",
    "        X=pd.read_csv(os.path.join(datasets_path, 'X2.csv')),\n",
    "        y=None\n",
    "    )\n",
    ")\n",
    "\n",
    "dataset.train.X, dataset.validation.X, dataset.train.y, dataset.validation.y = train_test_split(dataset.train.X, dataset.train.y, train_size=.8, shuffle=True)"
   ]
  },
  {
   "cell_type": "markdown",
   "metadata": {},
   "source": [
    "Linear regression on the 58 train features\n",
    "---"
   ]
  },
  {
   "cell_type": "code",
   "execution_count": 6,
   "metadata": {},
   "outputs": [
    {
     "data": {
      "text/plain": "LinearRegression()"
     },
     "execution_count": 6,
     "metadata": {},
     "output_type": "execute_result"
    }
   ],
   "source": [
    "linear_regression_cf = LinearRegression()\n",
    "\n",
    "linear_regression_cf.fit(dataset.train.X.values, dataset.train.y.values)"
   ]
  },
  {
   "cell_type": "markdown",
   "metadata": {},
   "source": [
    "Inference on the validation set\n",
    "---"
   ]
  },
  {
   "cell_type": "code",
   "execution_count": 13,
   "metadata": {},
   "outputs": [
    {
     "name": "stdout",
     "output_type": "stream",
     "text": [
      "Score on the validation set : 4.84e-01\n",
      "Score on the train set      : 4.91e-01\n",
      "Accuracy on the validation set : 1.72e+17\n",
      "Accuracy on the train set      : 1.53e+08\n"
     ]
    }
   ],
   "source": [
    "y_val_pred = linear_regression_cf.predict(dataset.validation.X.values)\n",
    "y_train_pred = linear_regression_cf.predict(dataset.train.X.values)\n",
    "\n",
    "\n",
    "val_score = score_regression(dataset.validation.y.values, y_val_pred)\n",
    "train_score = score_regression(dataset.train.y.values, y_train_pred)\n",
    "\n",
    "print(f\"Score on the validation set : {val_score:.2e}\")\n",
    "print(f\"Score on the train set      : {train_score:.2e}\")\n",
    "\n",
    "\n",
    "val_acc = mean_squared_error(dataset.validation.y.values, y_val_pred)\n",
    "train_acc = mean_squared_error(dataset.train.y.values, y_train_pred)\n",
    "\n",
    "print(f\"Accuracy on the validation set : {val_acc:.2e}\")\n",
    "print(f\"Accuracy on the train set      : {train_acc:.2e}\")"
   ]
  },
  {
   "cell_type": "code",
   "execution_count": null,
   "metadata": {},
   "outputs": [],
   "source": []
  }
 ],
 "metadata": {
  "kernelspec": {
   "display_name": "Python 3.8.5 64-bit ('lelec2870': conda)",
   "name": "python38564bitlelec2870condaa7a27ef4b72140da8e30f325f5b1a3ab"
  },
  "language_info": {
   "codemirror_mode": {
    "name": "ipython",
    "version": 3
   },
   "file_extension": ".py",
   "mimetype": "text/x-python",
   "name": "python",
   "nbconvert_exporter": "python",
   "pygments_lexer": "ipython3",
   "version": "3.8.5-final"
  },
  "orig_nbformat": 2
 },
 "nbformat": 4,
 "nbformat_minor": 2
}