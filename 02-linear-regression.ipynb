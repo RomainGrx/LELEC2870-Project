{
 "cells": [
  {
   "cell_type": "markdown",
   "metadata": {},
   "source": [
    "All imports \n",
    "----"
   ]
  },
  {
   "cell_type": "code",
   "execution_count": 1,
   "metadata": {},
   "outputs": [],
   "source": [
    "from sklearn.linear_model import LinearRegression\n",
    "\n",
    "from utils import run_test"
   ]
  },
  {
   "cell_type": "markdown",
   "metadata": {},
   "source": [
    "Linear regression on the 58 train features\n",
    "---"
   ]
  },
  {
   "cell_type": "code",
   "execution_count": 3,
   "metadata": {
    "pycharm": {
     "name": "#%%\n"
    }
   },
   "outputs": [
    {
     "data": {
      "text/plain": "            all_features  5_features  10_features  15_features  20_features\ntrain_loss      0.487032    0.467480     0.470300     0.476553     0.475784\nval_loss        0.485215    0.476827     0.480989     0.484259     0.484670",
      "text/html": "<div>\n<style scoped>\n    .dataframe tbody tr th:only-of-type {\n        vertical-align: middle;\n    }\n\n    .dataframe tbody tr th {\n        vertical-align: top;\n    }\n\n    .dataframe thead th {\n        text-align: right;\n    }\n</style>\n<table border=\"1\" class=\"dataframe\">\n  <thead>\n    <tr style=\"text-align: right;\">\n      <th></th>\n      <th>all_features</th>\n      <th>5_features</th>\n      <th>10_features</th>\n      <th>15_features</th>\n      <th>20_features</th>\n    </tr>\n  </thead>\n  <tbody>\n    <tr>\n      <th>train_loss</th>\n      <td>0.487032</td>\n      <td>0.467480</td>\n      <td>0.470300</td>\n      <td>0.476553</td>\n      <td>0.475784</td>\n    </tr>\n    <tr>\n      <th>val_loss</th>\n      <td>0.485215</td>\n      <td>0.476827</td>\n      <td>0.480989</td>\n      <td>0.484259</td>\n      <td>0.484670</td>\n    </tr>\n  </tbody>\n</table>\n</div>"
     },
     "execution_count": 3,
     "metadata": {},
     "output_type": "execute_result"
    }
   ],
   "source": [
    "lr = LinearRegression()\n",
    "\n",
    "scores = run_test(lr, seed=42, save_tex=False, save_json=True)\n",
    "\n",
    "scores\n"
   ]
  }
 ],
 "metadata": {
  "kernelspec": {
   "name": "python38564bitlelec2870condaa7a27ef4b72140da8e30f325f5b1a3ab",
   "language": "python",
   "display_name": "Python 3.8.5 64-bit ('lelec2870': conda)"
  },
  "language_info": {
   "codemirror_mode": {
    "name": "ipython",
    "version": 3
   },
   "file_extension": ".py",
   "mimetype": "text/x-python",
   "name": "python",
   "nbconvert_exporter": "python",
   "pygments_lexer": "ipython3",
   "version": "3.8.5"
  },
  "orig_nbformat": 2
 },
 "nbformat": 4,
 "nbformat_minor": 2
}