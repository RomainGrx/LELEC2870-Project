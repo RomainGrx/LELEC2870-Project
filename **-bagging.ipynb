{
 "cells": [
  {
   "cell_type": "code",
   "execution_count": 1,
   "metadata": {},
   "outputs": [],
   "source": [
    "import os\n",
    "import numpy as np\n",
    "import pandas as pd\n",
    "\n",
    "import sklearn\n",
    "from sklearn.metrics import f1_score, r2_score, mean_squared_error\n",
    "from sklearn.ensemble import BaggingRegressor, RandomForestRegressor\n",
    "from sklearn.tree import DecisionTreeRegressor\n",
    "from sklearn.model_selection import train_test_split\n",
    "\n",
    "from metrics import score_regression\n",
    "from preprocess import get_dataset, preprocess_all, dataset_to_X_y, SUBSET_FEATURES"
   ]
  },
  {
   "cell_type": "code",
   "execution_count": 2,
   "metadata": {},
   "outputs": [],
   "source": [
    "DATASETS_PATH = os.path.join(os.getcwd(), \"datasets\")\n",
    "\n",
    "dataset = get_dataset(root=DATASETS_PATH, shuffle=True, seed=42)\n",
    "dataset = preprocess_all(dataset, subset=SUBSET_FEATURES)\n",
    "X_train, y_train, X_validation, y_validation = dataset_to_X_y(dataset, \"all\")\n"
   ]
  },
  {
   "cell_type": "code",
   "execution_count": 5,
   "metadata": {},
   "outputs": [
    {
     "name": "stdout",
     "output_type": "stream",
     "text": [
      "Train score      : 0.810\n",
      "Validation score : 0.492\n",
      "F1 score\n",
      "Train score      : 0.821\n",
      "Validation score : -0.082\n"
     ]
    }
   ],
   "source": [
    "model = BaggingRegressor(base_estimator=DecisionTreeRegressor(max_depth=None))\n",
    "#model = RandomForestRegressor(n_jobs=-1, max_depth=9)\n",
    "model.fit(X_train, y_train)\n",
    "\n",
    "y_val_hat = model.predict(X_validation)\n",
    "y_train_hat = model.predict(X_train)\n",
    "\n",
    "print(f\"Train score      : {score_regression(y_train, y_train_hat):.3f}\")\n",
    "print(f\"Validation score : {score_regression(y_validation, y_val_hat):.3f}\")\n",
    "print(\"R2 score\")\n",
    "print(f\"Train score      : {r2_score(y_train, y_train_hat):.3f}\")\n",
    "print(f\"Validation score : {r2_score(y_validation, y_val_hat):.3f}\")"
   ]
  },
  {
   "cell_type": "code",
   "execution_count": null,
   "metadata": {},
   "outputs": [],
   "source": []
  }
 ],
 "metadata": {
  "kernelspec": {
   "display_name": "Python 3.8.5 64-bit ('lelec2870': conda)",
   "name": "python38564bitlelec2870condaa7a27ef4b72140da8e30f325f5b1a3ab"
  },
  "language_info": {
   "codemirror_mode": {
    "name": "ipython",
    "version": 3
   },
   "file_extension": ".py",
   "mimetype": "text/x-python",
   "name": "python",
   "nbconvert_exporter": "python",
   "pygments_lexer": "ipython3",
   "version": "3.8.5"
  },
  "orig_nbformat": 2
 },
 "nbformat": 4,
 "nbformat_minor": 2
}