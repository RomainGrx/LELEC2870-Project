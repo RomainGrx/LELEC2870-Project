{
 "cells": [
  {
   "cell_type": "code",
   "execution_count": 2,
   "metadata": {},
   "outputs": [],
   "source": [
    "import sklearn\n",
    "import numpy as np\n",
    "\n",
    "import pandas as pd\n",
    "\n",
    "from sklearn.ensemble import AdaBoostRegressor\n",
    "from sklearn.tree import DecisionTreeRegressor\n",
    "\n",
    "from preprocess import get_dataset, preprocess_all, dataset_to_X_y\n",
    "from metrics import score_regression"
   ]
  },
  {
   "cell_type": "code",
   "execution_count": 3,
   "metadata": {},
   "outputs": [],
   "source": [
    "dataset = get_dataset()\n",
    "dataset = preprocess_all(dataset)\n",
    "\n",
    "X_train, y_train, X_val, y_val = dataset_to_X_y(dataset, keys=\"all\")"
   ]
  },
  {
   "cell_type": "code",
   "execution_count": 4,
   "metadata": {},
   "outputs": [
    {
     "name": "stderr",
     "output_type": "stream",
     "text": [
      "/home/romaingrx/anaconda3/envs/lelec2870/lib/python3.8/site-packages/sklearn/utils/validation.py:72: DataConversionWarning: A column-vector y was passed when a 1d array was expected. Please change the shape of y to (n_samples, ), for example using ravel().\n",
      "  return f(**kwargs)\n"
     ]
    },
    {
     "data": {
      "text/plain": "AdaBoostRegressor(base_estimator=DecisionTreeRegressor(max_depth=8))"
     },
     "execution_count": 4,
     "metadata": {},
     "output_type": "execute_result"
    }
   ],
   "source": [
    "model = AdaBoostRegressor(base_estimator=DecisionTreeRegressor(max_depth = 8, criterion='mse'))\n",
    "\n",
    "\n",
    "model.fit(X_train, y_train)"
   ]
  },
  {
   "cell_type": "code",
   "execution_count": 5,
   "metadata": {},
   "outputs": [
    {
     "name": "stdout",
     "output_type": "stream",
     "text": [
      "0.5953097173571743\n",
      "0.4636054668535357\n"
     ]
    }
   ],
   "source": [
    "y_val_hat = model.predict(X_val)\n",
    "y_train_hat = model.predict(X_train)\n",
    "\n",
    "val_score = score_regression(y_val, y_val_hat)\n",
    "train_score = score_regression(y_train, y_train_hat)\n",
    "\n",
    "print(train_score)\n",
    "print(val_score)"
   ]
  },
  {
   "cell_type": "code",
   "execution_count": 6,
   "metadata": {},
   "outputs": [
    {
     "name": "stdout",
     "output_type": "stream",
     "text": [
      "Train R2 score      : -4.999841371426601\n",
      "Validation R2 score : -11.106141424389989\n"
     ]
    }
   ],
   "source": [
    "print(f\"Train R2 score      : {sklearn.metrics.r2_score(y_train_hat, y_train)}\")\n",
    "print(f\"Validation R2 score : {sklearn.metrics.r2_score(y_val_hat, y_val)}\")"
   ]
  },
  {
   "cell_type": "code",
   "execution_count": null,
   "metadata": {},
   "outputs": [],
   "source": []
  }
 ],
 "metadata": {
  "kernelspec": {
   "name": "python38564bitlelec2870condaa7a27ef4b72140da8e30f325f5b1a3ab",
   "language": "python",
   "display_name": "Python 3.8.5 64-bit ('lelec2870': conda)"
  },
  "language_info": {
   "codemirror_mode": {
    "name": "ipython",
    "version": 3
   },
   "file_extension": ".py",
   "mimetype": "text/x-python",
   "name": "python",
   "nbconvert_exporter": "python",
   "pygments_lexer": "ipython3",
   "version": "3.8.5-final"
  },
  "orig_nbformat": 2
 },
 "nbformat": 4,
 "nbformat_minor": 2
}